{
 "cells": [
  {
   "cell_type": "code",
   "execution_count": 1,
   "metadata": {},
   "outputs": [
    {
     "name": "stdout",
     "output_type": "stream",
     "text": [
      "Requirement already satisfied: selenium in e:\\anaconda\\lib\\site-packages (3.141.0)\n",
      "Requirement already satisfied: urllib3 in e:\\anaconda\\lib\\site-packages (from selenium) (1.25.9)\n",
      "El driver fue instalado correctamente\n"
     ]
    }
   ],
   "source": [
    "#Instalar el paquete que controla el navegador\n",
    "!pip install selenium\n",
    "\n",
    "#Descargar el Driver en :https://sites.google.com/a/chromium.org/chromedriver/downloads\n",
    "\n",
    "#importar y chequer si selenium funciona\n",
    "\n",
    "from selenium import webdriver\n",
    "from selenium.webdriver.support.ui import WebDriverWait     \n",
    "from selenium.webdriver.common.by import By     \n",
    "from selenium.webdriver.support import expected_conditions as EC\n",
    "from selenium.common.exceptions import TimeoutException\n",
    "from selenium.webdriver.support.select import Select\n",
    "import openpyxl\n",
    "from openpyxl import load_workbook\n",
    "import re\n",
    "import itertools\n",
    "import time \n",
    "import pandas as pd\n",
    "\n",
    "# selecionando nuestro webbrowser (selecionar la ubicación donde este el driver)\n",
    "try:\n",
    "    driver = webdriver.Chrome(\"C:/Users/Ivan/Documents/CCCE/WebDriver/chromedriver80\")\n",
    "except:\n",
    "    driver = webdriver.Chrome(\"C:/Users/Ivan/Documents/CCCE/WebDriver/chromedriver85\")\n",
    "    print(\"El driver fue instalado correctamente\")"
   ]
  },
  {
   "cell_type": "code",
   "execution_count": 2,
   "metadata": {},
   "outputs": [
    {
     "name": "stderr",
     "output_type": "stream",
     "text": [
      "<ipython-input-2-6884ea6db18a>:5: DeprecationWarning: Call to deprecated function get_sheet_by_name (Use wb[sheetname]).\n",
      "  hoja = docs.get_sheet_by_name(\"Dafiti\")\n"
     ]
    }
   ],
   "source": [
    "#pagina donde va a buscar\n",
    "#Dafiti\n",
    "\n",
    "docs = openpyxl.load_workbook (\"Categorias.xlsx\")\n",
    "hoja = docs.get_sheet_by_name(\"Dafiti\")\n",
    "\n",
    "itemsD = []\n",
    "for columna in hoja.iter_rows():\n",
    "    bien = columna[0].value\n",
    "    itemsD.append(bien)"
   ]
  },
  {
   "cell_type": "code",
   "execution_count": 3,
   "metadata": {},
   "outputs": [],
   "source": [
    "driver.get(\"https://www.dafiti.com.co/\")"
   ]
  },
  {
   "cell_type": "code",
   "execution_count": null,
   "metadata": {},
   "outputs": [
    {
     "name": "stdout",
     "output_type": "stream",
     "text": [
      "Camisa hombre\n"
     ]
    }
   ],
   "source": [
    "linksD = []\n",
    "priceD = []\n",
    "descD = []\n",
    "codesD = []\n",
    "timeD = []\n",
    "obj = []\n",
    "\n",
    "from selenium.webdriver.common.keys import Keys\n",
    "\n",
    "for item in itemsD:\n",
    "    searchBar = WebDriverWait(driver, 200).until(lambda x: x.find_element_by_id(\"searchInput\")) #Selecionar la barra de busqueda\n",
    "    searchBar.send_keys(item) #escribir en la barra de busqueda\n",
    "    searchBar.send_keys(Keys.RETURN) #Enviar la busqueda sortNumber1\n",
    "    print(item)\n",
    "    time.sleep(6)\n",
    "    sort = WebDriverWait(driver, 20).until(lambda x: x.find_element_by_css_selector(\".specialPrices.block\"))\n",
    "    sort.click()\n",
    "    time.sleep(8)\n",
    "    aplicar = WebDriverWait(driver, 20).until(lambda x: x.find_element_by_css_selector(\".filterBtn.applyFilterButton.greenButton\"))\n",
    "    aplicar.click()\n",
    "    time.sleep(10)\n",
    "    SCROLL_PAUSE_TIME = 0.5\n",
    "    # Get scroll height\n",
    "    last_height = driver.execute_script(\"return document.body.scrollHeight\")\n",
    "    while True:\n",
    "        # Scroll down to bottom\n",
    "        driver.execute_script(\"window.scrollTo(0, document.body.scrollHeight);\")\n",
    "        # Wait to load page\n",
    "        time.sleep(SCROLL_PAUSE_TIME)\n",
    "        # Calculate new scroll height and compare with last scroll height\n",
    "        new_height = driver.execute_script(\"return document.body.scrollHeight\")\n",
    "        if new_height == last_height:\n",
    "            break\n",
    "        last_height = new_height\n",
    "    elemsp = WebDriverWait(driver, 200).until(lambda x: x.find_elements_by_css_selector(\".itm-price.special\"))\n",
    "    for elemp in elemsp:\n",
    "        if elemp.text != \"\":\n",
    "            ele = elemp.text #obtiene el precio del webelement\n",
    "            value = re.findall(r\"[0-9.]*[0-9]+\", ele) #quita el signo \"$\" del precio\n",
    "            #print(value[0])\n",
    "            priceD.append(value[0]) #guarda el precio en una lista\n",
    "        else:\n",
    "            continue\n",
    "    elems = WebDriverWait(driver, 60).until(lambda x: x.find_elements_by_css_selector(\".itm-link\"))\n",
    "    for elem in itertools.islice(elems,None,None,1): #realiza un loop cada \"3\" Webelements\n",
    "        linksD.append(elem.get_attribute(\"href\")) #Obtiene y guarda el webelement en la lista \"linksK\"\n",
    "        #print(elem.get_attribute(\"href\"))\n",
    "        timeD.append(time.strftime(\"%d/%m/%y %H:%M:%S\"))\n",
    "        obj.append(item)\n",
    "    #print(len(priceD))\n",
    "    #print(len(linksD))\n",
    "for link in linksD: #Obtener descripcion & Codigo unico de los links\n",
    "    des = re.findall(r\"co?/([^\\s].+)-\", link)\n",
    "    des = des[0]\n",
    "    #print(des)\n",
    "    descD.append(des) #guarda cada descripcion en la lista \"descK\"\n",
    "    code = re.findall(\"-([0-9].+).html\",link)\n",
    "    code = code[0]\n",
    "    #print(code)\n",
    "    codesD.append(code) #guarda cada descripcion en la lista \"codesK\""
   ]
  },
  {
   "cell_type": "code",
   "execution_count": 7,
   "metadata": {},
   "outputs": [],
   "source": [
    "nowa = time.strftime(\"%d-%m-%y\")\n",
    "dataf = pd.DataFrame({\"Codigo\":codesD, \"Descripción\":descD,\n",
    "                      \"Subcategoria\":obj, \"Precio\":priceD,\n",
    "                      \"Link\":linksD, \"Fecha & Hora\":timeD})\n",
    "book = load_workbook('Dafiti.xlsx')\n",
    "writer = pd.ExcelWriter('Dafiti.xlsx', engine = 'openpyxl')\n",
    "writer.book = book\n",
    "dataf.to_excel(writer, sheet_name = (\"Dafiti \" + str(nowa)), index = False)\n",
    "writer.save()"
   ]
  },
  {
   "cell_type": "code",
   "execution_count": 5,
   "metadata": {},
   "outputs": [
    {
     "data": {
      "text/plain": [
       "672"
      ]
     },
     "execution_count": 5,
     "metadata": {},
     "output_type": "execute_result"
    }
   ],
   "source": [
    "len(priceD)"
   ]
  },
  {
   "cell_type": "code",
   "execution_count": 6,
   "metadata": {},
   "outputs": [
    {
     "data": {
      "text/plain": [
       "672"
      ]
     },
     "execution_count": 6,
     "metadata": {},
     "output_type": "execute_result"
    }
   ],
   "source": [
    "len(linksD)"
   ]
  },
  {
   "cell_type": "code",
   "execution_count": null,
   "metadata": {},
   "outputs": [],
   "source": []
  }
 ],
 "metadata": {
  "kernelspec": {
   "display_name": "Python 3",
   "language": "python",
   "name": "python3"
  },
  "language_info": {
   "codemirror_mode": {
    "name": "ipython",
    "version": 3
   },
   "file_extension": ".py",
   "mimetype": "text/x-python",
   "name": "python",
   "nbconvert_exporter": "python",
   "pygments_lexer": "ipython3",
   "version": "3.8.3"
  }
 },
 "nbformat": 4,
 "nbformat_minor": 4
}
